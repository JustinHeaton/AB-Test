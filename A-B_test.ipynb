{
 "cells": [
  {
   "cell_type": "markdown",
   "metadata": {},
   "source": [
    "# Running an A/B Test on the Udacity Homepage\n",
    "\n",
    "**Background**\n",
    "\n",
    "At the time of this experiment, Udacity courses currently have two options on the home page: \"start free trial\", and \"access course materials\". If the student clicks \"start free trial\", they will be asked to enter their credit card information, and then they will be enrolled in a free trial for the paid version of the course. After 14 days, they will automatically be charged unless they cancel first. If the student clicks \"access course materials\", they will be able to view the videos and take the quizzes for free, but they will not receive coaching support or a verified certificate, and they will not submit their final project for feedback.\n",
    "\n",
    "In the experiment, Udacity tested a change where if the student clicked \"start free trial\", they were asked how much time they had available to devote to the course. If the student indicated 5 or more hours per week, they would be taken through the checkout process as usual. If they indicated fewer than 5 hours per week, a message would appear indicating that Udacity courses usually require a greater time commitment for successful completion, and suggesting that the student might like to access the course materials for free. At this point, the student would have the option to continue enrolling in the free trial, or access the course materials for free instead. This screenshot shows what the experiment looks like.\n",
    "\n",
    "The hypothesis was that this might set clearer expectations for students upfront, thus reducing the number of frustrated students who left the free trial because they didn't have enough time—without significantly reducing the number of students to continue past the free trial and eventually complete the course. If this hypothesis held true, Udacity could improve the overall student experience and improve coaches' capacity to support students who are likely to complete the course.\n",
    "\n",
    "The unit of diversion is a cookie, although if the student enrolls in the free trial, they are tracked by user-id from that point forward. The same user-id cannot enroll in the free trial twice. For users that do not enroll, their user-id is not tracked in the experiment, even if they were signed in when they visited the course overview page."
   ]
  },
  {
   "cell_type": "markdown",
   "metadata": {},
   "source": [
    "### Part 1: Experiment Design\n",
    "\n",
    "**Metric Choice**\n",
    "\n",
    "Which of the following metrics would you choose to measure for this experiment and why? For each metric you choose, indicate whether you would use it as an invariant metric or an evaluation metric. The practical significance boundary for each metric, that is, the difference that would have to be observed before that was a meaningful change for the business, is given in parentheses. All practical significance boundaries are given as absolute changes.\n",
    "Any place \"unique cookies\" are mentioned, the uniqueness is determined by day. (That is, the same cookie visiting on different days would be counted twice.) User-ids are automatically unique since the site does not allow the same user-id to enroll twice.\n",
    "\n",
    "* Number of cookies: *That is, number of unique cookies to view the course overview page. (dmin=3000)* This is an appropriate choice as an invariant metric because cookies are counted before the users are exposed to the experiment, also it is the unit of diversion for the project and therefore an equal number of cookies would be expected in each group.\n",
    "* Number of user-ids: *That is, number of users who enroll in the free trial. (dmin=50)* This is not a good choice as an invariant metric because the user-ids are counted after the click occurs, and therefore will be effected by the test. User-ids is also not useful as an evaluation metric because, although it does tell us how many users converted, there is no way to normalize the number because the value has no denominator.\n",
    "* Number of clicks: *That is, number of unique cookies to click the \"Start free trial\" button (which happens before the free trial screener is trigger). (dmin=240)* This is a good choice as an invariant metric because clicks happen before users are exposed to the experiment, Also, the users who click are the ones who see the change and for the experiment it is necessary to have an equal number in each group.\n",
    "* Click-through-probability: *The number of unique cookies to click the \"Start free trial\" button divided by number of unique cookies to view the course overview page. (dmin=0.01)* This would be a valid choice as an invariant metric because it is counted before the user sees the experimental change, however, because it is a product of Number of Cookies and Number of Clicks, it is not necessary to include and will therefore be left out.\n",
    "* Gross conversion: *That is, number of user-ids to complete checkout and enroll in the free trial divided by number of unique cookies to click the \"Start free trial\" button. (dmin= 0.01)* This is a good evaluation metric because it will allow us to see if the experiment had an effect on the number of users enrolling after they click.\n",
    "* Retention: *That is, number of user-ids to remain enrolled past the 14-day boundary (and thus make at least one payment) divided by number of user-ids to complete checkout. (dmin=0.01)* Retention actually is a relevant metric for evaluation because it tells us exactly how many users remained enrolled after the trial period, however, it will be determined later in this report that using retention as an evaluation metric would cause the experiment to take too long, so it will not be included.\n",
    "* Net conversion: *That is, number of user-ids to remain enrolled past the 14-day boundary (and thus make at least one payment) divided by the number of unique cookies to click the \"Start free trial\" button. (dmin= 0.0075)* This is a good evaluation metric because the hypothesis is based on a change in this metric. Net conversion will allow us to see if the experiment had an effect on the number of uses who click and become paying customers after the free trial ends.\n",
    "\n",
    "You should also decide now what results you will be looking for in order to launch the experiment. Would a change in any one of your evaluation metrics be sufficient? Would you want to see multiple metrics all move or not move at the same time in order to launch? This decision will inform your choices while designing the experiment.\n",
    "\n",
    "**Launch Criteria**\n",
    "\n",
    "Since the goal of the is to decrease the number of frustrated students dropping out during the free trial, without creating a drop in the number of paying students, in order to recommend a launch after the experiment we would have to see a satistically and practically significant decrease in gross conversion, while at least maintaining a constant level of Net Conversions.\n",
    "\n",
    "Both of these criteria must be met to warrant a recommendation to launch the change after the test:\n",
    "* A practically and statistically significant decrease in Gross Conversion.\n",
    "* No drop in Net Conversion.\n",
    "\n",
    "### Measuring Variability"
   ]
  },
  {
   "cell_type": "code",
   "execution_count": 1,
   "metadata": {
    "collapsed": false,
    "scrolled": true
   },
   "outputs": [
    {
     "data": {
      "text/html": [
       "<div>\n",
       "<table border=\"1\" class=\"dataframe\">\n",
       "  <thead>\n",
       "    <tr style=\"text-align: right;\">\n",
       "      <th></th>\n",
       "      <th>Statistic</th>\n",
       "      <th>Value</th>\n",
       "    </tr>\n",
       "  </thead>\n",
       "  <tbody>\n",
       "    <tr>\n",
       "      <th>0</th>\n",
       "      <td>Unique cookies to view page per day:</td>\n",
       "      <td>40000.000000</td>\n",
       "    </tr>\n",
       "    <tr>\n",
       "      <th>1</th>\n",
       "      <td>Unique cookies to click \"Start free trial\" per...</td>\n",
       "      <td>3200.000000</td>\n",
       "    </tr>\n",
       "    <tr>\n",
       "      <th>2</th>\n",
       "      <td>Enrollments per day:</td>\n",
       "      <td>660.000000</td>\n",
       "    </tr>\n",
       "    <tr>\n",
       "      <th>3</th>\n",
       "      <td>Click-through-probability on \"Start free trial\":</td>\n",
       "      <td>0.080000</td>\n",
       "    </tr>\n",
       "    <tr>\n",
       "      <th>4</th>\n",
       "      <td>Probability of enrolling, given click:</td>\n",
       "      <td>0.206250</td>\n",
       "    </tr>\n",
       "    <tr>\n",
       "      <th>5</th>\n",
       "      <td>Probability of payment, given enroll:</td>\n",
       "      <td>0.530000</td>\n",
       "    </tr>\n",
       "    <tr>\n",
       "      <th>6</th>\n",
       "      <td>Probability of payment, given click</td>\n",
       "      <td>0.109313</td>\n",
       "    </tr>\n",
       "  </tbody>\n",
       "</table>\n",
       "</div>"
      ],
      "text/plain": [
       "                                           Statistic         Value\n",
       "0               Unique cookies to view page per day:  40000.000000\n",
       "1  Unique cookies to click \"Start free trial\" per...   3200.000000\n",
       "2                               Enrollments per day:    660.000000\n",
       "3   Click-through-probability on \"Start free trial\":      0.080000\n",
       "4             Probability of enrolling, given click:      0.206250\n",
       "5              Probability of payment, given enroll:      0.530000\n",
       "6                Probability of payment, given click      0.109313"
      ]
     },
     "execution_count": 1,
     "metadata": {},
     "output_type": "execute_result"
    }
   ],
   "source": [
    "import numpy as np\n",
    "import pandas as pd\n",
    "import math\n",
    "\n",
    "data = pd.read_csv(\"abtest.csv\", names = (\"Statistic\",\"Value\"))\n",
    "data"
   ]
  },
  {
   "cell_type": "code",
   "execution_count": 2,
   "metadata": {
    "collapsed": false,
    "scrolled": true
   },
   "outputs": [
    {
     "name": "stdout",
     "output_type": "stream",
     "text": [
      "The standard deviation for Gross Conversion is 0.0202.\n"
     ]
    }
   ],
   "source": [
    "print \"The standard deviation for Gross Conversion is {:.4f}.\".format(np.sqrt(0.20625*(1.0 - 0.20625)/(5000 * .08)))"
   ]
  },
  {
   "cell_type": "code",
   "execution_count": 3,
   "metadata": {
    "collapsed": false
   },
   "outputs": [
    {
     "name": "stdout",
     "output_type": "stream",
     "text": [
      "The standard deviation for Retention is 0.0549.\n"
     ]
    }
   ],
   "source": [
    "print \"The standard deviation for Retention is {:.4f}.\".format(np.sqrt(0.53*(1.0 - 0.53)/(5000. * (660./40000.))))"
   ]
  },
  {
   "cell_type": "code",
   "execution_count": 4,
   "metadata": {
    "collapsed": false,
    "scrolled": true
   },
   "outputs": [
    {
     "name": "stdout",
     "output_type": "stream",
     "text": [
      "The standard deviation for Net Conversion is 0.0156.\n"
     ]
    }
   ],
   "source": [
    "print \"The standard deviation for Net Conversion is {:.4f}.\".format(np.sqrt(0.1093125*(1.0 - 0.1093125)/(5000 * .08)))"
   ]
  },
  {
   "cell_type": "markdown",
   "metadata": {},
   "source": [
    "For each of your evaluation metrics, indicate whether you think the analytic estimate would be comparable to the the empirical variability, or whether you expect them to be different (in which case it might be worth doing an empirical estimate if there is time). Briefly give your reasoning in each case.\n",
    "* Since both Gross Conversion and Net Conversion metrics depend on the number of cookies, which is also the unit of diversion and an invariant metric, we can expect the analytical estimate of variability to be comparable to the emprical variability so it will not be necessary to calculate the emperical variability.\n",
    "* If Retention ends up being used as an evaluation metric it may be necessary to calculate the emperical variance because it uses user-id as its denominator.\n"
   ]
  },
  {
   "cell_type": "markdown",
   "metadata": {},
   "source": [
    "# Sizing\n",
    "\n",
    "### Choosing Number of Samples given Power\n",
    "\n",
    "Using the analytic estimates of variance, how many pageviews total (across both groups) would you need to collect to adequately power the experiment? Use an alpha of 0.05 and a beta of 0.2. Make sure you have enough power for each metric. Also indicate whether or not you will be using Bonferroni Correction.\n",
    "\n",
    "* Bonferroni Correction is used to correct for false positives, and it comes with the side-effect of decreasing power/increasing false negatives. This correction is useful when the hypothesis is looking for a statistically significant change in any metric. In this case, since a statistically significant change must be seen in all evaluation metrics, Bonferroni Correction is not an appropriate choice and will not be used.\n",
    "\n",
    "In order to caclulate the required the required number of pageviews for the expirement, I will first use this online tool, http://www.evanmiller.org/ab-testing/sample-size.html, to calculate the necessary sample size. Using the following values as inputs:\n",
    "\n",
    "**Retention**\n",
    "* Base conversion rate for Retention is 53%\n",
    "* The minimum detectable effect is 1.0%\n",
    "* The statistical power (1-β) is 0.8\n",
    "* The significance level (α) is .05\n",
    "\n",
    "Based on these inputs the minimum sample size is 39,115.\n",
    "\n",
    "Since there will be two groups (control and experiment) this number must be doubled.\n",
    "\n",
    "Finally, to get the number of pageviews, this number must be divided by the enrollment rate (The number of enrollments per day divided by the number of unique cookies per day).\n",
    "\n",
    "**Gross Conversion**\n",
    "* Base conversion rate for Net Conversions is 10.9%\n",
    "* The minimum detectable effect is 0.75%\n",
    "* The statistical power (1-β) is 0.8\n",
    "* The significance level (α) is .05\n",
    "\n",
    "Based on those inputs, the minimum sample size is 27,345.\n",
    "\n",
    "Since there will be two groups in the experiment (control and experiment) this number needs to be doubled.\n",
    "\n",
    "Finally, to calculate the number of pageviews, the doubled sample size must be divided by the click through probability of .08"
   ]
  },
  {
   "cell_type": "code",
   "execution_count": 5,
   "metadata": {
    "collapsed": false,
    "scrolled": true
   },
   "outputs": [
    {
     "name": "stdout",
     "output_type": "stream",
     "text": [
      "The total number of pageviews needed using Retention is 4741212.12.\n",
      "The total number of pageviews needed using Net Conversion is 683625.0.\n"
     ]
    }
   ],
   "source": [
    "print \"The total number of pageviews needed using Retention is {:.2f}.\".format((39115*2)/(660./40000.))\n",
    "print \"The total number of pageviews needed using Net Conversion is {}.\".format((27345*2)/.08)"
   ]
  },
  {
   "cell_type": "markdown",
   "metadata": {},
   "source": [
    "### Choosing Duration vs. Exposure\n",
    "\n",
    "What percentage of Udacity's traffic would you divert to this experiment (assuming there were no other experiments you wanted to run simultaneously)? Is the change risky enough that you wouldn't want to run on all traffic?\n",
    "* A test would be considered high risk if it could be potentially causing harm to its users, or if it collects sensitive information. Considering that this test doesn't raise either of these issues, and will not impact existing paying customers, I think it is safe to go ahead with running the test on 100% of user traffic. \n",
    "\n",
    "Given the percentage you chose, how long would the experiment take to run, using the analytic estimates of variance? If the answer is longer than a few weeks, then this is unreasonably long, and you should reconsider an earlier decision."
   ]
  },
  {
   "cell_type": "code",
   "execution_count": 6,
   "metadata": {
    "collapsed": false,
    "scrolled": true
   },
   "outputs": [
    {
     "name": "stdout",
     "output_type": "stream",
     "text": [
      "Using Retention, the experiment should be run for 119.0 days to collect the requisite number of pageviews.\n",
      "Excluding Retention, the experiment should be run for 18.0 days to collect the requisite number of pageviews.\n"
     ]
    }
   ],
   "source": [
    "print \"Using Retention, the experiment should be run for {} days to collect the requisite number of pageviews.\".format(math.ceil(4741212.12/40000.))\n",
    "print \"Excluding Retention, the experiment should be run for {} days to collect the requisite number of pageviews.\".format(math.ceil(685325./40000.))"
   ]
  },
  {
   "cell_type": "markdown",
   "metadata": {},
   "source": [
    "Based on this information, including retention as an evaluation metric would cause the duration of the experiment to be much longer than the client wants, therefore, Retention will be ignored as an evaluation metric and only Gross Conversion and Net Conversion will be considered, and only 18 days will be required to complete the test."
   ]
  },
  {
   "cell_type": "markdown",
   "metadata": {},
   "source": [
    "### Analysis\n",
    "\n",
    "The data from the experiment is in the following table. This data contains the raw information needed to compute the above metrics, broken down day by day."
   ]
  },
  {
   "cell_type": "code",
   "execution_count": 7,
   "metadata": {
    "collapsed": false,
    "scrolled": true
   },
   "outputs": [
    {
     "data": {
      "text/html": [
       "<div>\n",
       "<table border=\"1\" class=\"dataframe\">\n",
       "  <thead>\n",
       "    <tr style=\"text-align: right;\">\n",
       "      <th></th>\n",
       "      <th>Date</th>\n",
       "      <th>Pageviews_control</th>\n",
       "      <th>Clicks_control</th>\n",
       "      <th>Enrollments_control</th>\n",
       "      <th>Payments_control</th>\n",
       "      <th>Pageviews_exp</th>\n",
       "      <th>Clicks_exp</th>\n",
       "      <th>Enrollments_exp</th>\n",
       "      <th>Payments_exp</th>\n",
       "    </tr>\n",
       "  </thead>\n",
       "  <tbody>\n",
       "    <tr>\n",
       "      <th>0</th>\n",
       "      <td>Sat, Oct 11</td>\n",
       "      <td>7723</td>\n",
       "      <td>687</td>\n",
       "      <td>134</td>\n",
       "      <td>70</td>\n",
       "      <td>7716</td>\n",
       "      <td>686</td>\n",
       "      <td>105</td>\n",
       "      <td>34</td>\n",
       "    </tr>\n",
       "    <tr>\n",
       "      <th>1</th>\n",
       "      <td>Sun, Oct 12</td>\n",
       "      <td>9102</td>\n",
       "      <td>779</td>\n",
       "      <td>147</td>\n",
       "      <td>70</td>\n",
       "      <td>9288</td>\n",
       "      <td>785</td>\n",
       "      <td>116</td>\n",
       "      <td>91</td>\n",
       "    </tr>\n",
       "    <tr>\n",
       "      <th>2</th>\n",
       "      <td>Mon, Oct 13</td>\n",
       "      <td>10511</td>\n",
       "      <td>909</td>\n",
       "      <td>167</td>\n",
       "      <td>95</td>\n",
       "      <td>10480</td>\n",
       "      <td>884</td>\n",
       "      <td>145</td>\n",
       "      <td>79</td>\n",
       "    </tr>\n",
       "    <tr>\n",
       "      <th>3</th>\n",
       "      <td>Tue, Oct 14</td>\n",
       "      <td>9871</td>\n",
       "      <td>836</td>\n",
       "      <td>156</td>\n",
       "      <td>105</td>\n",
       "      <td>9867</td>\n",
       "      <td>827</td>\n",
       "      <td>138</td>\n",
       "      <td>92</td>\n",
       "    </tr>\n",
       "    <tr>\n",
       "      <th>4</th>\n",
       "      <td>Wed, Oct 15</td>\n",
       "      <td>10014</td>\n",
       "      <td>837</td>\n",
       "      <td>163</td>\n",
       "      <td>64</td>\n",
       "      <td>9793</td>\n",
       "      <td>832</td>\n",
       "      <td>140</td>\n",
       "      <td>94</td>\n",
       "    </tr>\n",
       "  </tbody>\n",
       "</table>\n",
       "</div>"
      ],
      "text/plain": [
       "          Date  Pageviews_control  Clicks_control  Enrollments_control  \\\n",
       "0  Sat, Oct 11               7723             687                  134   \n",
       "1  Sun, Oct 12               9102             779                  147   \n",
       "2  Mon, Oct 13              10511             909                  167   \n",
       "3  Tue, Oct 14               9871             836                  156   \n",
       "4  Wed, Oct 15              10014             837                  163   \n",
       "\n",
       "   Payments_control  Pageviews_exp  Clicks_exp  Enrollments_exp  Payments_exp  \n",
       "0                70           7716         686              105            34  \n",
       "1                70           9288         785              116            91  \n",
       "2                95          10480         884              145            79  \n",
       "3               105           9867         827              138            92  \n",
       "4                64           9793         832              140            94  "
      ]
     },
     "execution_count": 7,
     "metadata": {},
     "output_type": "execute_result"
    }
   ],
   "source": [
    "control = pd.read_csv(\"results - control.csv\")\n",
    "experiment = pd.read_csv(\"results - experiment.csv\")\n",
    "df = pd.merge(control, experiment, on=\"Date\", suffixes = (\"_control\", \"_exp\"))\n",
    "df.head()"
   ]
  },
  {
   "cell_type": "markdown",
   "metadata": {},
   "source": [
    "The meaning of each column is:\n",
    "* Pageviews: Number of unique cookies to view the course overview page that day.\n",
    "* Clicks: Number of unique cookies to click the course overview page that day.\n",
    "* Enrollments: Number of user-ids to enroll in the free trial that day.\n",
    "* Payments: Number of user-ids who who enrolled on that day to remain enrolled for 14 days and thus make a payment. (Note that the date for this column is the start date, that is, the date of enrollment, rather than the date of the payment. The payment happened 14 days later. Because of this, the enrollments and payments are tracked for 14 fewer days than the other columns.)\n",
    "\n",
    "### Sanity Checks\n",
    "\n",
    "At this point I will create a confidence interval for each of my invarient metrics and make sure that the actual number for each metric is within that confidence interval.\n",
    "\n",
    "** Number of Cookies**"
   ]
  },
  {
   "cell_type": "code",
   "execution_count": 8,
   "metadata": {
    "collapsed": false,
    "scrolled": true
   },
   "outputs": [
    {
     "name": "stdout",
     "output_type": "stream",
     "text": [
      "Confidence Interval = [0.4988,0.5012].\n",
      "The actual proportion of pageviews for control group = 0.5006, which is inside the confidence interval, therefore the number of cookies metric passes the sanity check.\n"
     ]
    }
   ],
   "source": [
    "control_pageview = float(sum(df['Pageviews_control']))\n",
    "exp_pageview = float(sum(df['Pageviews_exp']))\n",
    "total = control_pageview + exp_pageview\n",
    "standard_error = np.sqrt((.5*.5)*(1/total))\n",
    "margin = standard_error * 1.96\n",
    "print \"Confidence Interval = [{:.4f},{:.4f}].\".format((.5-margin),(.5+margin))\n",
    "print \"The actual proportion of pageviews for control group = {:.4f}, which is inside the confidence interval, therefore the number of cookies metric passes the sanity check.\".format(control_pageview/total)"
   ]
  },
  {
   "cell_type": "markdown",
   "metadata": {},
   "source": [
    "**Number of clicks**"
   ]
  },
  {
   "cell_type": "code",
   "execution_count": 9,
   "metadata": {
    "collapsed": false,
    "scrolled": true
   },
   "outputs": [
    {
     "name": "stdout",
     "output_type": "stream",
     "text": [
      "Confidence Interval = [0.4959,0.5041].\n",
      "The actual proportion of clicks for control group = 0.5005, which is inside the confidence interval, therefore the number of clicks metric passes the sanity check.\n"
     ]
    }
   ],
   "source": [
    "control_clicks = float(sum(df['Clicks_control']))\n",
    "exp_clicks = float(sum(df['Clicks_exp']))\n",
    "total = control_clicks + exp_clicks\n",
    "standard_error = np.sqrt((.5*.5)*(1.0/total))\n",
    "margin = standard_error * 1.96\n",
    "print \"Confidence Interval = [{:.4f},{:.4f}].\".format((.5-margin),(.5+margin))\n",
    "print \"The actual proportion of clicks for control group = {:.4f}, which is inside the confidence interval, therefore the number of clicks metric passes the sanity check.\".format(control_clicks/total)"
   ]
  },
  {
   "cell_type": "markdown",
   "metadata": {},
   "source": [
    "### Check for practical and statistical significance\n",
    "\n",
    "**Gross Conversion**"
   ]
  },
  {
   "cell_type": "code",
   "execution_count": 10,
   "metadata": {
    "collapsed": false,
    "scrolled": true
   },
   "outputs": [
    {
     "name": "stdout",
     "output_type": "stream",
     "text": [
      "Gross Conversion confidence interval: [-0.0291,-0.0120].\n"
     ]
    }
   ],
   "source": [
    "df = df.dropna(axis=0)\n",
    "control_clicks = float(sum(df['Clicks_control']))\n",
    "exp_clicks = float(sum(df['Clicks_exp']))\n",
    "control_enroll = float(sum(df['Enrollments_control']))\n",
    "exp_enroll = float(sum(df['Enrollments_exp']))\n",
    "control_gross = control_enroll/control_clicks\n",
    "exp_gross = exp_enroll/exp_clicks\n",
    "total_gross = (exp_enroll + control_enroll)/(exp_clicks + control_clicks)\n",
    "se = np.sqrt(total_gross*((1.0 - total_gross)*(1./control_clicks + 1./exp_clicks)))\n",
    "margin = 1.96 * se\n",
    "difference = exp_gross - control_gross\n",
    "print \"Gross Conversion confidence interval: [{:.4f},{:.4f}].\".format((difference - margin),(difference + margin))\n"
   ]
  },
  {
   "cell_type": "markdown",
   "metadata": {},
   "source": [
    "Since the confidence interval for Gross Conversion does not include 0 the results of the test can be considered to be Statistically significant. \n",
    "\n",
    "This result is also practically significant because the change is greater than the practical significance threshold (dmin=.01) outlined earlier in the metric choice section. The boundaries of the confidence interval are both lower than -.01, so the change can be determined to be practically significant.\n",
    "\n",
    "**Net Conversion**"
   ]
  },
  {
   "cell_type": "code",
   "execution_count": 11,
   "metadata": {
    "collapsed": false,
    "scrolled": true
   },
   "outputs": [
    {
     "name": "stdout",
     "output_type": "stream",
     "text": [
      "Net Conversion confidence interval: [-0.0116,0.0019].\n"
     ]
    }
   ],
   "source": [
    "control_clicks = float(sum(df['Clicks_control']))\n",
    "exp_clicks = float(sum(df['Clicks_exp']))\n",
    "control_pay = float(sum(df['Payments_control']))\n",
    "exp_pay = float(sum(df['Payments_exp']))\n",
    "control_net = control_pay/control_clicks\n",
    "exp_net = exp_pay/exp_clicks\n",
    "total_net = (exp_pay + control_pay)/(exp_clicks + control_clicks)\n",
    "se = np.sqrt(total_net*((1.0 - total_net)*(1./control_clicks + 1./exp_clicks)))\n",
    "margin = 1.96 * se\n",
    "difference = exp_net - control_net\n",
    "print \"Net Conversion confidence interval: [{:.4f},{:.4f}].\".format((difference - margin),(difference + margin))"
   ]
  },
  {
   "cell_type": "markdown",
   "metadata": {},
   "source": [
    "Since the confidence interval for Net Conversion does include 0, this result can not be considered statistically significant.\n",
    "\n",
    "From a practical significance viewpoint, the launch criteria state that the test should not lead to a decrease in Net Conversions, and the practical significance threshold is .0075, so for the change to be practically significant it would have to lead to an increase in Net Conversions which is greater than or equal to .0075. Not only are the boundaries of the confidence interval less than the practical significance threshold, they include negative numbers, which means that this test may have actually led to a decrease in Net Conversions, so this result is not aligned with the goals of the experiment."
   ]
  },
  {
   "cell_type": "markdown",
   "metadata": {},
   "source": [
    "### Run Sign Tests\n",
    "\n",
    "For each evaluation metric, do a sign test using the day-by-day breakdown. If the sign test does not agree with the confidence interval for the difference, see if you can figure out why."
   ]
  },
  {
   "cell_type": "code",
   "execution_count": 12,
   "metadata": {
    "collapsed": false,
    "scrolled": true
   },
   "outputs": [
    {
     "data": {
      "text/html": [
       "<div>\n",
       "<table border=\"1\" class=\"dataframe\">\n",
       "  <thead>\n",
       "    <tr style=\"text-align: right;\">\n",
       "      <th></th>\n",
       "      <th>Date</th>\n",
       "      <th>Pageviews_control</th>\n",
       "      <th>Clicks_control</th>\n",
       "      <th>Enrollments_control</th>\n",
       "      <th>Payments_control</th>\n",
       "      <th>Pageviews_exp</th>\n",
       "      <th>Clicks_exp</th>\n",
       "      <th>Enrollments_exp</th>\n",
       "      <th>Payments_exp</th>\n",
       "      <th>gross_sign</th>\n",
       "      <th>net_sign</th>\n",
       "    </tr>\n",
       "  </thead>\n",
       "  <tbody>\n",
       "    <tr>\n",
       "      <th>0</th>\n",
       "      <td>Sat, Oct 11</td>\n",
       "      <td>7723</td>\n",
       "      <td>687</td>\n",
       "      <td>134</td>\n",
       "      <td>70</td>\n",
       "      <td>7716</td>\n",
       "      <td>686</td>\n",
       "      <td>105</td>\n",
       "      <td>34</td>\n",
       "      <td>False</td>\n",
       "      <td>False</td>\n",
       "    </tr>\n",
       "    <tr>\n",
       "      <th>1</th>\n",
       "      <td>Sun, Oct 12</td>\n",
       "      <td>9102</td>\n",
       "      <td>779</td>\n",
       "      <td>147</td>\n",
       "      <td>70</td>\n",
       "      <td>9288</td>\n",
       "      <td>785</td>\n",
       "      <td>116</td>\n",
       "      <td>91</td>\n",
       "      <td>False</td>\n",
       "      <td>True</td>\n",
       "    </tr>\n",
       "    <tr>\n",
       "      <th>2</th>\n",
       "      <td>Mon, Oct 13</td>\n",
       "      <td>10511</td>\n",
       "      <td>909</td>\n",
       "      <td>167</td>\n",
       "      <td>95</td>\n",
       "      <td>10480</td>\n",
       "      <td>884</td>\n",
       "      <td>145</td>\n",
       "      <td>79</td>\n",
       "      <td>False</td>\n",
       "      <td>False</td>\n",
       "    </tr>\n",
       "    <tr>\n",
       "      <th>3</th>\n",
       "      <td>Tue, Oct 14</td>\n",
       "      <td>9871</td>\n",
       "      <td>836</td>\n",
       "      <td>156</td>\n",
       "      <td>105</td>\n",
       "      <td>9867</td>\n",
       "      <td>827</td>\n",
       "      <td>138</td>\n",
       "      <td>92</td>\n",
       "      <td>False</td>\n",
       "      <td>False</td>\n",
       "    </tr>\n",
       "    <tr>\n",
       "      <th>4</th>\n",
       "      <td>Wed, Oct 15</td>\n",
       "      <td>10014</td>\n",
       "      <td>837</td>\n",
       "      <td>163</td>\n",
       "      <td>64</td>\n",
       "      <td>9793</td>\n",
       "      <td>832</td>\n",
       "      <td>140</td>\n",
       "      <td>94</td>\n",
       "      <td>False</td>\n",
       "      <td>True</td>\n",
       "    </tr>\n",
       "  </tbody>\n",
       "</table>\n",
       "</div>"
      ],
      "text/plain": [
       "          Date  Pageviews_control  Clicks_control  Enrollments_control  \\\n",
       "0  Sat, Oct 11               7723             687                  134   \n",
       "1  Sun, Oct 12               9102             779                  147   \n",
       "2  Mon, Oct 13              10511             909                  167   \n",
       "3  Tue, Oct 14               9871             836                  156   \n",
       "4  Wed, Oct 15              10014             837                  163   \n",
       "\n",
       "   Payments_control  Pageviews_exp  Clicks_exp  Enrollments_exp  Payments_exp  \\\n",
       "0                70           7716         686              105            34   \n",
       "1                70           9288         785              116            91   \n",
       "2                95          10480         884              145            79   \n",
       "3               105           9867         827              138            92   \n",
       "4                64           9793         832              140            94   \n",
       "\n",
       "  gross_sign net_sign  \n",
       "0      False    False  \n",
       "1      False     True  \n",
       "2      False    False  \n",
       "3      False    False  \n",
       "4      False     True  "
      ]
     },
     "execution_count": 12,
     "metadata": {},
     "output_type": "execute_result"
    }
   ],
   "source": [
    "df['gross_sign'] = df['Clicks_control'] / df['Enrollments_control'] > df['Clicks_exp']/df['Enrollments_exp']\n",
    "df['net_sign'] = df['Clicks_control'] / df['Payments_control'] > df['Clicks_exp']/df['Payments_exp']\n",
    "df.head()"
   ]
  },
  {
   "cell_type": "code",
   "execution_count": 13,
   "metadata": {
    "collapsed": false,
    "scrolled": true
   },
   "outputs": [
    {
     "name": "stdout",
     "output_type": "stream",
     "text": [
      "The control group had a higher gross conversion rate than the experiment group in 4 days out of 23.\n",
      "The control group had a higher net conversion rate than the experiment group in 10 days out of 23.\n"
     ]
    }
   ],
   "source": [
    "print \"The control group had a higher gross conversion rate than the experiment group in {} days out of {}.\".format(\\\n",
    "        (sum(df['gross_sign'])),len(df))\n",
    "print \"The control group had a higher net conversion rate than the experiment group in {} days out of {}.\".format(\\\n",
    "        (sum(df['net_sign'])),len(df))"
   ]
  },
  {
   "cell_type": "markdown",
   "metadata": {},
   "source": [
    "The following online tool which calculates the p-values, http://graphpad.com/quickcalcs/binomial1.cfm, revealed the following statistics:\n",
    "* The p-value for gross conversion is .0026 which is statistically significant.\n",
    "* The p-value for net conversion is .6776 which is not statistically significant.\n",
    "\n",
    "These results agree with the confidence intervals I calculated before."
   ]
  },
  {
   "cell_type": "markdown",
   "metadata": {},
   "source": [
    "### Recommendation\n",
    "\n",
    "As discussed earlier in the \"Launch Criteria\" section, it would be necessary to see a statistically significant decrease in gross conversion, without leading to a decrease in net conversions, to recmmend a launch. The results showed that the test led to a statistically and practically significant decrease in gross conversion but did not practically or significantly increase Net Conversions, in fact, it may have even caused a drop net conversions, therefore, this change would probably not lead to increased profits for Udacity, and I would not recommend to launch the change to the website after the test. \n",
    "\n",
    "# Follow-Up Experiment: How to Reduce Early Cancellations\n",
    "\n",
    "An early cancellation is a user who signs up for the free trial, using their credit card, and cancels their subsription during the first 14 days, before their credit card is charged. In an attempt to reduce the frequency of early cancellations, and get more users to follow through on their subscription, I would propose the following A/B test.\n",
    "\n",
    "The test would be almost identical to the test outlined in this project, except instead of asking people how much time they have to devote to the program, they would be asked how confident they are in the essential skills necessary to complete the projects. For example, if they were signing up for the data analyst nanodegree, the pop-up would say \"This program requires an intermediate ability to write code in python. How confident are you with python programming?\"\n",
    "\n",
    "If someone reports a high level of confidence they are encouraged to continue with their enrollment, otherwise, they are encouraged to do some additional studying in the relevant skills. \n",
    "\n",
    "The unit of diversion is a cookie, although if the student enrolls in the free trial, they are tracked by user-id from that point forward. The same user-id cannot enroll in the free trial twice. For users that do not enroll, their user-id is not tracked in the experiment, even if they were signed in when they visited the course overview page.\n",
    "\n",
    "The  hpyothesis would be that users would have a clearer picture of what technical skills will be required of them to finish the course, and fewer users will cancel their subscription because they are surprised to find that they are unable to complete the projects with their current skill level.\n",
    "\n",
    "The invarient metrics will be the number of clicks and the number of cookies and the number of clicks because we would want to have an equal number of users seeing each home page option, and an equal number of users who click the start free trial button, from each group.\n",
    "\n",
    "The evaluation metrics would be gross conversion and net conversion because the goal of the test is to get more students to enroll in the program, and stay enrolled beyond the free trial. A statistically significant change in both metrics would warrant a recommendation to launch the change."
   ]
  },
  {
   "cell_type": "code",
   "execution_count": null,
   "metadata": {
    "collapsed": true,
    "scrolled": true
   },
   "outputs": [],
   "source": []
  }
 ],
 "metadata": {
  "kernelspec": {
   "display_name": "Python 2",
   "language": "python",
   "name": "python2"
  },
  "language_info": {
   "codemirror_mode": {
    "name": "ipython",
    "version": 2
   },
   "file_extension": ".py",
   "mimetype": "text/x-python",
   "name": "python",
   "nbconvert_exporter": "python",
   "pygments_lexer": "ipython2",
   "version": "2.7.12"
  }
 },
 "nbformat": 4,
 "nbformat_minor": 0
}
